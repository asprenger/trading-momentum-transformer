{
 "cells": [
  {
   "cell_type": "code",
   "execution_count": 1,
   "id": "a59151ff-3b5a-4b13-ac68-cf23a1171df9",
   "metadata": {},
   "outputs": [],
   "source": [
    "import tensorflow as tf\n",
    "from tensorflow import keras"
   ]
  },
  {
   "cell_type": "code",
   "execution_count": 33,
   "id": "5a123c8e-abb0-4d88-a61d-a375c35ba2c4",
   "metadata": {},
   "outputs": [
    {
     "name": "stdout",
     "output_type": "stream",
     "text": [
      "<KerasTensor shape=(None, 2, 5), dtype=float32, sparse=False, name=keras_tensor_83>\n"
     ]
    },
    {
     "data": {
      "text/plain": [
       "<tf.Tensor: shape=(1, 2, 5), dtype=int32, numpy=\n",
       "array([[[ 1,  2,  3,  4,  5],\n",
       "        [ 6,  7,  8,  9, 10]]], dtype=int32)>"
      ]
     },
     "execution_count": 33,
     "metadata": {},
     "output_type": "execute_result"
    }
   ],
   "source": [
    "inputs = keras.Input((16,))\n",
    "x = keras.layers.Dense(5)(inputs)\n",
    "y = keras.layers.Dense(5)(inputs)\n",
    "\n",
    "stacked = keras.ops.concatenate([keras.ops.expand_dims(x, axis=1),keras.ops.expand_dims(y, axis=1)], axis=1)\n",
    "print(stacked)\n",
    "\n",
    "x = tf.constant([[1,2,3,4,5]])\n",
    "y = tf.constant([[6,7,8,9,10]])\n",
    "tf.stack([x,y], axis=1)"
   ]
  },
  {
   "cell_type": "code",
   "execution_count": 38,
   "id": "377a5c01-2e7b-4f73-973d-6e3493b073aa",
   "metadata": {},
   "outputs": [
    {
     "data": {
      "text/plain": [
       "<KerasTensor shape=(None, 2, 5), dtype=float32, sparse=False, name=keras_tensor_100>"
      ]
     },
     "execution_count": 38,
     "metadata": {},
     "output_type": "execute_result"
    }
   ],
   "source": [
    "def stack_keras_tensors(tensors, axis=0):\n",
    "    \"\"\"Stacks a list of rank-`R` tensors into one rank-`(R+1)` tensor.\"\"\"\n",
    "    return keras.ops.concatenate([keras.ops.expand_dims(t, axis=axis) for t in tensors], axis=axis)\n",
    "\n",
    "inputs = keras.Input((16,))\n",
    "x = keras.layers.Dense(5)(inputs)\n",
    "y = keras.layers.Dense(5)(inputs)\n",
    "stack_keras_tensors([x,y], axis=1)"
   ]
  },
  {
   "cell_type": "code",
   "execution_count": 47,
   "id": "b8c28940-96ad-408a-ae80-459e5154b12b",
   "metadata": {},
   "outputs": [
    {
     "data": {
      "text/plain": [
       "5"
      ]
     },
     "execution_count": 47,
     "metadata": {},
     "output_type": "execute_result"
    }
   ],
   "source": [
    "inputs = keras.Input((16,))\n",
    "x = keras.layers.Dense(5)(inputs)\n",
    "x.shape[-1]"
   ]
  },
  {
   "cell_type": "code",
   "execution_count": 143,
   "id": "4a1cf909-5670-418d-82c8-b16a46ac9edc",
   "metadata": {},
   "outputs": [
    {
     "name": "stdout",
     "output_type": "stream",
     "text": [
      "tf.Tensor([[[1 2 3 4 5]]], shape=(1, 1, 5), dtype=int32)\n",
      "tf.Tensor([1 5], shape=(2,), dtype=int32)\n",
      "tf.Tensor([[1 2 3 4 5]], shape=(1, 5), dtype=int32)\n"
     ]
    }
   ],
   "source": [
    "embedding = tf.constant([[[1,2,3,4,5]]])\n",
    "_, num_static, static_dim = embedding.shape[-3:]\n",
    "shape = tf.shape(embedding)\n",
    "foo = tf.concat([shape[:-2], [num_static * static_dim]], axis=-1)\n",
    "flatten = tf.reshape(\n",
    "    embedding, tf.concat([shape[:-2], [num_static * static_dim]], axis=-1)\n",
    ")\n",
    "print(embedding)\n",
    "print(foo)\n",
    "print(flatten)"
   ]
  },
  {
   "cell_type": "code",
   "execution_count": 148,
   "id": "04ee7d91-58fc-4a99-83be-59c0819f3600",
   "metadata": {},
   "outputs": [
    {
     "name": "stdout",
     "output_type": "stream",
     "text": [
      "<KerasTensor shape=(None, 1, 5), dtype=float32, sparse=False, name=keras_tensor_168>\n",
      "[None, 5]\n"
     ]
    }
   ],
   "source": [
    "embedding = keras.Input((1,5))\n",
    "_, num_static, static_dim = embedding.shape[-3:]\n",
    "shape = embedding.shape\n",
    "new_shape = list(shape[:-2]) + [num_static * static_dim]\n",
    "flatten = keras.ops.reshape(embedding, new_shape)\n",
    "print(embedding)\n",
    "print(foo)"
   ]
  },
  {
   "cell_type": "code",
   "execution_count": 201,
   "id": "74b94fa2-57ea-47a6-87c9-d85bcf5fdfc7",
   "metadata": {},
   "outputs": [
    {
     "ename": "AttributeError",
     "evalue": "'KerasTensor' object has no attribute 'numpy'",
     "output_type": "error",
     "traceback": [
      "\u001b[0;31m---------------------------------------------------------------------------\u001b[0m",
      "\u001b[0;31mAttributeError\u001b[0m                            Traceback (most recent call last)",
      "Cell \u001b[0;32mIn[201], line 11\u001b[0m\n\u001b[1;32m      9\u001b[0m len_s \u001b[38;5;241m=\u001b[39m shape[\u001b[38;5;241m-\u001b[39m\u001b[38;5;241m2\u001b[39m]\n\u001b[1;32m     10\u001b[0m bs \u001b[38;5;241m=\u001b[39m shape[\u001b[38;5;241m0\u001b[39m]\n\u001b[0;32m---> 11\u001b[0m mask \u001b[38;5;241m=\u001b[39m tf\u001b[38;5;241m.\u001b[39meye(\u001b[43mlen_s\u001b[49m\u001b[38;5;241;43m.\u001b[39;49m\u001b[43mnumpy\u001b[49m(), batch_shape\u001b[38;5;241m=\u001b[39mbs\u001b[38;5;241m.\u001b[39mnumpy())\n\u001b[1;32m     12\u001b[0m model \u001b[38;5;241m=\u001b[39m Model(self_attn_inputs, mask)\n\u001b[1;32m     13\u001b[0m model(tf\u001b[38;5;241m.\u001b[39mconstant(np\u001b[38;5;241m.\u001b[39mones((\u001b[38;5;241m2\u001b[39m,\u001b[38;5;241m252\u001b[39m,\u001b[38;5;241m5\u001b[39m))))\u001b[38;5;241m.\u001b[39mnumpy()\n",
      "\u001b[0;31mAttributeError\u001b[0m: 'KerasTensor' object has no attribute 'numpy'"
     ]
    }
   ],
   "source": [
    "import numpy as np\n",
    "from keras import Layer, Model\n",
    "class GetShapeLayer(Layer):\n",
    "    def call(self, x):\n",
    "        return tf.shape(x)\n",
    "\n",
    "self_attn_inputs = keras.Input((252, 5))\n",
    "shape = GetShapeLayer()(self_attn_inputs)\n",
    "len_s = shape[-2]\n",
    "bs = shape[0]\n",
    "mask = tf.eye(len_s)\n",
    "model = Model(self_attn_inputs, mask)\n",
    "model(tf.constant(np.ones((2,252,5)))).numpy()"
   ]
  },
  {
   "cell_type": "code",
   "execution_count": 197,
   "id": "121f663b-2fea-4a9a-9e57-1f9e2f2accc4",
   "metadata": {},
   "outputs": [
    {
     "name": "stdout",
     "output_type": "stream",
     "text": [
      "Help on function eye in module keras.src.ops.numpy:\n",
      "\n",
      "eye(N, M=None, k=0, dtype=None)\n",
      "    Return a 2-D tensor with ones on the diagonal and zeros elsewhere.\n",
      "    \n",
      "    Args:\n",
      "        N: Number of rows in the output.\n",
      "        M: Number of columns in the output. If `None`, defaults to `N`.\n",
      "        k: Index of the diagonal: 0 (the default) refers to the main\n",
      "            diagonal, a positive value refers to an upper diagonal,\n",
      "            and a negative value to a lower diagonal.\n",
      "        dtype: Data type of the returned tensor.\n",
      "    \n",
      "    Returns:\n",
      "        Tensor with ones on the k-th diagonal and zeros elsewhere.\n",
      "\n"
     ]
    }
   ],
   "source": [
    "help(keras.ops.eye)"
   ]
  }
 ],
 "metadata": {
  "kernelspec": {
   "display_name": "Python 3 (ipykernel)",
   "language": "python",
   "name": "python3"
  },
  "language_info": {
   "codemirror_mode": {
    "name": "ipython",
    "version": 3
   },
   "file_extension": ".py",
   "mimetype": "text/x-python",
   "name": "python",
   "nbconvert_exporter": "python",
   "pygments_lexer": "ipython3",
   "version": "3.10.12"
  }
 },
 "nbformat": 4,
 "nbformat_minor": 5
}
