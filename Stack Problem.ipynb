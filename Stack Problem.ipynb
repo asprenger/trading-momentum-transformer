{
 "cells": [
  {
   "cell_type": "code",
   "execution_count": 1,
   "id": "a59151ff-3b5a-4b13-ac68-cf23a1171df9",
   "metadata": {},
   "outputs": [],
   "source": [
    "import tensorflow as tf\n",
    "from tensorflow import keras"
   ]
  },
  {
   "cell_type": "code",
   "execution_count": 33,
   "id": "5a123c8e-abb0-4d88-a61d-a375c35ba2c4",
   "metadata": {},
   "outputs": [
    {
     "name": "stdout",
     "output_type": "stream",
     "text": [
      "<KerasTensor shape=(None, 2, 5), dtype=float32, sparse=False, name=keras_tensor_83>\n"
     ]
    },
    {
     "data": {
      "text/plain": [
       "<tf.Tensor: shape=(1, 2, 5), dtype=int32, numpy=\n",
       "array([[[ 1,  2,  3,  4,  5],\n",
       "        [ 6,  7,  8,  9, 10]]], dtype=int32)>"
      ]
     },
     "execution_count": 33,
     "metadata": {},
     "output_type": "execute_result"
    }
   ],
   "source": [
    "inputs = keras.Input((16,))\n",
    "x = keras.layers.Dense(5)(inputs)\n",
    "y = keras.layers.Dense(5)(inputs)\n",
    "\n",
    "stacked = keras.ops.concatenate([keras.ops.expand_dims(x, axis=1),keras.ops.expand_dims(y, axis=1)], axis=1)\n",
    "print(stacked)\n",
    "\n",
    "x = tf.constant([[1,2,3,4,5]])\n",
    "y = tf.constant([[6,7,8,9,10]])\n",
    "tf.stack([x,y], axis=1)"
   ]
  },
  {
   "cell_type": "code",
   "execution_count": 38,
   "id": "377a5c01-2e7b-4f73-973d-6e3493b073aa",
   "metadata": {},
   "outputs": [
    {
     "data": {
      "text/plain": [
       "<KerasTensor shape=(None, 2, 5), dtype=float32, sparse=False, name=keras_tensor_100>"
      ]
     },
     "execution_count": 38,
     "metadata": {},
     "output_type": "execute_result"
    }
   ],
   "source": [
    "def stack_keras_tensors(tensors, axis=0):\n",
    "    \"\"\"Stacks a list of rank-`R` tensors into one rank-`(R+1)` tensor.\"\"\"\n",
    "    return keras.ops.concatenate([keras.ops.expand_dims(t, axis=axis) for t in tensors], axis=axis)\n",
    "\n",
    "inputs = keras.Input((16,))\n",
    "x = keras.layers.Dense(5)(inputs)\n",
    "y = keras.layers.Dense(5)(inputs)\n",
    "stack_keras_tensors([x,y], axis=1)"
   ]
  }
 ],
 "metadata": {
  "kernelspec": {
   "display_name": "Python 3 (ipykernel)",
   "language": "python",
   "name": "python3"
  },
  "language_info": {
   "codemirror_mode": {
    "name": "ipython",
    "version": 3
   },
   "file_extension": ".py",
   "mimetype": "text/x-python",
   "name": "python",
   "nbconvert_exporter": "python",
   "pygments_lexer": "ipython3",
   "version": "3.10.12"
  }
 },
 "nbformat": 4,
 "nbformat_minor": 5
}
