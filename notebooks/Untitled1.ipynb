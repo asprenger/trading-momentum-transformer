{
 "cells": [
  {
   "cell_type": "code",
   "execution_count": 35,
   "id": "5a47e1a9-68ab-4a24-8979-010192ed0a6d",
   "metadata": {},
   "outputs": [
    {
     "data": {
      "text/plain": [
       "-1.5954403"
      ]
     },
     "execution_count": 35,
     "metadata": {},
     "output_type": "execute_result"
    }
   ],
   "source": [
    "import tensorflow as tf\n",
    "\n",
    "class SharpeLoss(tf.keras.losses.Loss):\n",
    "    def __init__(self, output_size: int = 1):\n",
    "        self.output_size = output_size  # in case we have multiple targets => output dim[-1] = output_size * n_quantiles\n",
    "        super().__init__()\n",
    "    \n",
    "    def call(self, y_true, weights):\n",
    "        captured_returns = weights * y_true\n",
    "        mean_returns = tf.reduce_mean(captured_returns)\n",
    "        mean_returns = tf.constant(0.001)\n",
    "        return -(\n",
    "            mean_returns\n",
    "            / tf.sqrt(\n",
    "                tf.reduce_mean(tf.square(captured_returns))\n",
    "                - tf.square(mean_returns)\n",
    "                + 1e-9\n",
    "            )\n",
    "            * tf.sqrt(252.0)\n",
    "        )\n",
    "        \n",
    "loss = SharpeLoss()\n",
    "y_true = tf.constant([\n",
    "    [0.01, 0.01, 0.01, 0.01, 0.01]\n",
    "])\n",
    "y_hat = tf.constant([\n",
    "    [1.0,1.0,1.0,1.0,1.0]\n",
    "])\n",
    "loss.call(y_true, y_hat).numpy()"
   ]
  }
 ],
 "metadata": {
  "kernelspec": {
   "display_name": "Python 3 (ipykernel)",
   "language": "python",
   "name": "python3"
  },
  "language_info": {
   "codemirror_mode": {
    "name": "ipython",
    "version": 3
   },
   "file_extension": ".py",
   "mimetype": "text/x-python",
   "name": "python",
   "nbconvert_exporter": "python",
   "pygments_lexer": "ipython3",
   "version": "3.10.12"
  }
 },
 "nbformat": 4,
 "nbformat_minor": 5
}
